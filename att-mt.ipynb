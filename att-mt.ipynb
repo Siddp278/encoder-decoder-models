{
 "cells": [
  {
   "cell_type": "code",
   "execution_count": 1,
   "metadata": {},
   "outputs": [],
   "source": [
    "from __future__ import unicode_literals, print_function, division\n",
    "from io import open\n",
    "import unicodedata\n",
    "import string\n",
    "import re\n",
    "import random\n",
    "import matplotlib.pyplot as plt\n",
    "\n",
    "import torch\n",
    "import torch.nn as nn\n",
    "from torch import optim\n",
    "import torch.nn.functional as F\n",
    "\n",
    "device = torch.device(\"cuda\" if torch.cuda.is_available() else \"cpu\")"
   ]
  },
  {
   "cell_type": "code",
   "execution_count": 2,
   "metadata": {},
   "outputs": [
    {
     "data": {
      "text/plain": [
       "device(type='cuda')"
      ]
     },
     "execution_count": 2,
     "metadata": {},
     "output_type": "execute_result"
    }
   ],
   "source": [
    "device"
   ]
  },
  {
   "cell_type": "code",
   "execution_count": 9,
   "metadata": {},
   "outputs": [],
   "source": [
    "SOS_token = 0\n",
    "EOS_token = 1\n",
    "\n",
    "\n",
    "class Lang:\n",
    "    def __init__(self, name):\n",
    "        self.name = name\n",
    "        self.word2index = {}\n",
    "        self.word2count = {}\n",
    "        self.index2word = {0: \"SOS\", 1: \"EOS\"}\n",
    "        self.n_words = 2  # Count SOS and EOS\n",
    "\n",
    "    def addSentence(self, sentence):\n",
    "        for word in sentence.split(' '):\n",
    "            self.addWord(word)\n",
    "\n",
    "    def addWord(self, word):\n",
    "        if word not in self.word2index:\n",
    "            self.word2index[word] = self.n_words\n",
    "            self.word2count[word] = 1\n",
    "            self.index2word[self.n_words] = word\n",
    "            self.n_words += 1\n",
    "        else:\n",
    "            self.word2count[word] += 1"
   ]
  },
  {
   "cell_type": "code",
   "execution_count": 148,
   "metadata": {},
   "outputs": [],
   "source": [
    "def unicodeToAscii(s):\n",
    "    return ''.join(\n",
    "        c for c in unicodedata.normalize('NFD', s)\n",
    "        if unicodedata.category(c) != 'Mn'\n",
    "    )\n",
    "\n",
    "# Lowercase, trim, and remove special characters\n",
    "def normalizeString(s):\n",
    "    s = unicodeToAscii(s.lower().strip())\n",
    "    s = re.sub(r\"([.!?])\", r\" \\1\", s)\n",
    "    s = re.sub(r\"[^a-zA-Z.!?]+\", r\" \", s)\n",
    "    s = re.findall(r'\\w+', s)\n",
    "    return \" \".join(s)"
   ]
  },
  {
   "cell_type": "code",
   "execution_count": 149,
   "metadata": {},
   "outputs": [],
   "source": [
    "def readLangs(lang1, lang2, reverse=False):\n",
    "\n",
    "    path = \"C:/Users/siddp/OneDrive/Desktop/project/encoder-decoder-models\"\n",
    "    lines = open(path + '/data/%s-%s.txt' % (lang1, lang2), encoding='utf-8').read().strip().split('\\n')\n",
    "    # lang1 is english and lang2 is french\n",
    "\n",
    "    # Split every line into pairs and normalize\n",
    "    pairs = [[normalizeString(s) for s in l.split('\\t')] for l in lines]\n",
    "\n",
    "    # Reverse pairs, make Lang instances\n",
    "    if reverse:\n",
    "        pairs = [list(reversed(p)) for p in pairs]\n",
    "        input_lang = Lang(lang2)\n",
    "        output_lang = Lang(lang1)\n",
    "    else:\n",
    "        input_lang = Lang(lang1)\n",
    "        output_lang = Lang(lang2)\n",
    "\n",
    "    return input_lang, output_lang, pairs"
   ]
  },
  {
   "cell_type": "code",
   "execution_count": 150,
   "metadata": {},
   "outputs": [],
   "source": [
    "MAX_LENGTH = 15\n",
    "\n",
    "\n",
    "def filterPair(p):\n",
    "    return len(p[0].split(' ')) < MAX_LENGTH and len(p[1].split(' ')) < MAX_LENGTH\n",
    "\n",
    "\n",
    "def filterPairs(pairs):\n",
    "    return [pair for pair in pairs if filterPair(pair)]"
   ]
  },
  {
   "cell_type": "code",
   "execution_count": 151,
   "metadata": {},
   "outputs": [
    {
     "name": "stdout",
     "output_type": "stream",
     "text": [
      "Read 135842 sentence pairs\n",
      "Trimmed to 132157 sentence pairs\n",
      "Counted words:\n",
      "fra 20650\n",
      "eng 12543\n",
      "['les femmes mangent des repas plus legers lorsqu elles mangent avec un type', 'women eat lighter meals when they re eating with a guy']\n"
     ]
    }
   ],
   "source": [
    "def prepareData(lang1, lang2, reverse=False):\n",
    "    input_lang, output_lang, pairs = readLangs(lang1, lang2, reverse)\n",
    "    print(\"Read %s sentence pairs\" % len(pairs))\n",
    "    pairs = filterPairs(pairs)\n",
    "    print(\"Trimmed to %s sentence pairs\" % len(pairs))\n",
    "    for pair in pairs:\n",
    "        input_lang.addSentence(pair[0])\n",
    "        output_lang.addSentence(pair[1])\n",
    "    print(\"Counted words:\")\n",
    "    print(input_lang.name, input_lang.n_words)\n",
    "    print(output_lang.name, output_lang.n_words)\n",
    "    return input_lang, output_lang, pairs\n",
    "\n",
    "\n",
    "input_lang, output_lang, pairs = prepareData('eng', 'fra', True)\n",
    "print(random.choice(pairs))"
   ]
  },
  {
   "cell_type": "code",
   "execution_count": 152,
   "metadata": {},
   "outputs": [
    {
     "name": "stdout",
     "output_type": "stream",
     "text": [
      "34\n",
      "2341\n",
      "15\n",
      "5441\n"
     ]
    }
   ],
   "source": [
    "print(input_lang.word2count['respecte'])\n",
    "print(input_lang.word2index['respecte'])\n",
    "print(output_lang.word2count['respected'])\n",
    "print(output_lang.word2index['respected'])"
   ]
  },
  {
   "cell_type": "code",
   "execution_count": 154,
   "metadata": {},
   "outputs": [],
   "source": [
    "def indexesFromSentence(lang, sentence):\n",
    "    return [lang.word2index[word] for word in sentence.split(' ')]\n",
    "\n",
    "\n",
    "def tensorFromSentence(lang, sentence):\n",
    "    indexes = indexesFromSentence(lang, sentence)\n",
    "    indexes.append(EOS_token)\n",
    "    return torch.tensor(indexes, dtype=torch.long, device=device).view(-1, 1)\n",
    "\n",
    "\n",
    "def tensorsFromPair(pair):\n",
    "    input_tensor = tensorFromSentence(input_lang, pair[0])\n",
    "    target_tensor = tensorFromSentence(output_lang, pair[1])\n",
    "    return (input_tensor, target_tensor)"
   ]
  },
  {
   "cell_type": "markdown",
   "metadata": {},
   "source": [
    "## Simple Encoder-Decoder Model"
   ]
  },
  {
   "cell_type": "code",
   "execution_count": 155,
   "metadata": {},
   "outputs": [],
   "source": [
    "class EncoderRNN(nn.Module):\n",
    "    def __init__(self, input_size, hidden_size):\n",
    "        super(EncoderRNN, self).__init__()\n",
    "        self.hidden_size = hidden_size\n",
    "\n",
    "        self.embedding = nn.Embedding(input_size, hidden_size)\n",
    "        self.gru = nn.GRU(hidden_size, hidden_size)\n",
    "\n",
    "    def forward(self, input, hidden):\n",
    "        # unsqueeze can be used\n",
    "        embedded = self.embedding(input).view(1, 1, -1)\n",
    "        output, hidden = self.gru(embedded, hidden)\n",
    "        return output, hidden"
   ]
  },
  {
   "cell_type": "code",
   "execution_count": 156,
   "metadata": {},
   "outputs": [
    {
     "name": "stdout",
     "output_type": "stream",
     "text": [
      "torch.Size([1, 1, 128])\n"
     ]
    }
   ],
   "source": [
    "# Testing encoder model\n",
    "testing_model = EncoderRNN(input_size=input_lang.n_words, hidden_size=128).to(device)\n",
    "input = tensorFromSentence(input_lang, random.choice(pairs)[0])\n",
    "hidden_size = 128\n",
    "hidden = torch.zeros(1, 1, hidden_size, device=device)\n",
    "# print(input.get_device())\n",
    "output, hidden = testing_model(input[0], hidden)\n",
    "print(output.size())"
   ]
  },
  {
   "cell_type": "code",
   "execution_count": 157,
   "metadata": {},
   "outputs": [
    {
     "data": {
      "text/plain": [
       "torch.Size([1, 128])"
      ]
     },
     "execution_count": 157,
     "metadata": {},
     "output_type": "execute_result"
    }
   ],
   "source": [
    "output[0].size()"
   ]
  },
  {
   "cell_type": "code",
   "execution_count": 158,
   "metadata": {},
   "outputs": [],
   "source": [
    "class DecoderRNN(nn.Module):\n",
    "    def __init__(self, hidden_size, output_size):\n",
    "        super(DecoderRNN, self).__init__()\n",
    "        self.hidden_size = hidden_size\n",
    "\n",
    "        self.embedding = nn.Embedding(output_size, hidden_size)\n",
    "        self.gru = nn.GRU(hidden_size, hidden_size)\n",
    "        self.out = nn.Linear(hidden_size, output_size)\n",
    "        self.softmax = nn.LogSoftmax(dim=1)\n",
    "\n",
    "    def forward(self, input, hidden):\n",
    "        # hidden = torch.zeros(1, 1, self.hidden_size, device=device)\n",
    "        output = self.embedding(input).view(1, 1, -1)\n",
    "        output = F.relu(output)\n",
    "        output, hidden = self.gru(output, hidden)\n",
    "        output = self.softmax(self.out(output[0]))\n",
    "        return output, hidden"
   ]
  },
  {
   "cell_type": "code",
   "execution_count": 159,
   "metadata": {},
   "outputs": [
    {
     "name": "stdout",
     "output_type": "stream",
     "text": [
      "torch.Size([1, 12543])\n"
     ]
    }
   ],
   "source": [
    "# Testing decoder model\n",
    "testing_model = DecoderRNN(hidden_size=128, output_size=output_lang.n_words).to(device)\n",
    "input = tensorFromSentence(output_lang, random.choice(pairs)[1])\n",
    "# print(input.get_device())\n",
    "hidden_size=128\n",
    "hidden = torch.zeros(1, 1, hidden_size, device=device)\n",
    "output, hidden = testing_model(input[0], hidden)\n",
    "print(output.size())"
   ]
  },
  {
   "cell_type": "code",
   "execution_count": 160,
   "metadata": {},
   "outputs": [
    {
     "name": "stdout",
     "output_type": "stream",
     "text": [
      "tensor([7064], device='cuda:0')\n"
     ]
    }
   ],
   "source": [
    "print(output.argmax(1))"
   ]
  },
  {
   "cell_type": "code",
   "execution_count": 161,
   "metadata": {},
   "outputs": [],
   "source": [
    "teacher_forcing_ratio = 0.5"
   ]
  },
  {
   "cell_type": "code",
   "execution_count": 162,
   "metadata": {},
   "outputs": [],
   "source": [
    "# In the simplest seq2seq decoder we use only last output of the encoder. This last output is sometimes called the context vector as it encodes context \n",
    "# from the entire sequence. This context vector is used as the initial hidden state of the decoder."
   ]
  },
  {
   "cell_type": "code",
   "execution_count": 163,
   "metadata": {},
   "outputs": [],
   "source": [
    "def train(input_tensor, target_tensor, encoder, decoder, encoder_optimizer, decoder_optimizer, criterion, max_length=MAX_LENGTH):\n",
    "\n",
    "    encoder_optimizer.zero_grad()\n",
    "    decoder_optimizer.zero_grad()\n",
    "\n",
    "    input_length = input_tensor.size(0)\n",
    "    # length of input sentence\n",
    "    target_length = target_tensor.size(0)\n",
    "    # length of target sentence for training\n",
    "\n",
    "    loss = 0\n",
    "    hidden_size = 128\n",
    "    encoder_hidden = torch.zeros(1, 1, hidden_size, device=device)\n",
    "\n",
    "    for ei in range(input_length):\n",
    "        # word by word training in GRU\n",
    "        encoder_output, encoder_hidden = encoder(input_tensor[ei], encoder_hidden)\n",
    "\n",
    "    decoder_input = torch.tensor([[SOS_token]], device=device)\n",
    "\n",
    "    # Initialized by encoder hidden state, not random initialization.\n",
    "    decoder_hidden = encoder_hidden\n",
    "\n",
    "    use_teacher_forcing = True if random.random() < teacher_forcing_ratio else False\n",
    "\n",
    "    if use_teacher_forcing:\n",
    "        # Teacher forcing: Feed the target as the next input\n",
    "        for di in range(target_length):\n",
    "            decoder_output, decoder_hidden = decoder(decoder_input, decoder_hidden)\n",
    "            loss += criterion(decoder_output, target_tensor[di])\n",
    "            # loss += criterion(decoder_output.argmax(1), target_tensor[di])\n",
    "            decoder_input = target_tensor[di]  # Teacher forcing\n",
    "\n",
    "    else:\n",
    "        # Without teacher forcing: use its own predictions as the next input\n",
    "        for di in range(target_length):\n",
    "            decoder_output, decoder_hidden = decoder(decoder_input, decoder_hidden)\n",
    "            # topv, topi = decoder_output.topk(1)\n",
    "            best_guess = decoder_output.argmax(1)\n",
    "            # decoder_input = topi.squeeze().detach()  # detach from history as input\n",
    "            decoder_input = best_guess\n",
    "\n",
    "            loss += criterion(decoder_output, target_tensor[di])\n",
    "            # loss += criterion(best_guess, target_tensor[di])\n",
    "            if decoder_input.item() == EOS_token:\n",
    "                break\n",
    "\n",
    "    loss.backward()\n",
    "\n",
    "    encoder_optimizer.step()\n",
    "    decoder_optimizer.step()\n",
    "\n",
    "    return loss.item() / target_length"
   ]
  },
  {
   "cell_type": "code",
   "execution_count": 164,
   "metadata": {},
   "outputs": [],
   "source": [
    "def trainIters(encoder, decoder, n_iters, print_every=1000, plot_every=100, learning_rate=0.01):\n",
    "    plot_losses = []\n",
    "    print_loss_total = 0  # Reset every print_every\n",
    "    plot_loss_total = 0  # Reset every plot_every\n",
    "\n",
    "    encoder_optimizer = optim.SGD(encoder.parameters(), lr=learning_rate)\n",
    "    decoder_optimizer = optim.SGD(decoder.parameters(), lr=learning_rate)\n",
    "    training_pairs = [tensorsFromPair(random.choice(pairs))\n",
    "                      for i in range(n_iters)]\n",
    "    criterion = nn.NLLLoss()\n",
    "\n",
    "    for iter in range(1, n_iters + 1):\n",
    "        training_pair = training_pairs[iter - 1]\n",
    "        input_tensor = training_pair[0]\n",
    "        target_tensor = training_pair[1]\n",
    "\n",
    "        loss = train(input_tensor, target_tensor, encoder,\n",
    "                     decoder, encoder_optimizer, decoder_optimizer, criterion)\n",
    "        print_loss_total += loss\n",
    "        plot_loss_total += loss\n",
    "\n",
    "        if iter % print_every == 0:\n",
    "            print_loss_avg = print_loss_total / print_every\n",
    "            print_loss_total = 0\n",
    "            print(f\"iteration: {iter} and loss: {print_loss_avg}\")                             \n",
    "\n",
    "        if iter % plot_every == 0:\n",
    "            plot_loss_avg = plot_loss_total / plot_every\n",
    "            plot_losses.append(plot_loss_avg)\n",
    "            plot_loss_total = 0\n",
    "\n",
    "    plt.figure()\n",
    "    fig, ax = plt.subplots()\n",
    "    plt.plot(plot_losses)"
   ]
  },
  {
   "cell_type": "code",
   "execution_count": 165,
   "metadata": {},
   "outputs": [],
   "source": [
    "hidden_size = 128\n",
    "encoder1 = EncoderRNN(input_lang.n_words, hidden_size).to(device)\n",
    "decoder1 = DecoderRNN(hidden_size, output_lang.n_words).to(device)"
   ]
  },
  {
   "cell_type": "code",
   "execution_count": 180,
   "metadata": {},
   "outputs": [
    {
     "name": "stdout",
     "output_type": "stream",
     "text": [
      "iteration: 1000 and loss: 4.122932302121956\n",
      "iteration: 2000 and loss: 4.100129234905553\n",
      "iteration: 3000 and loss: 4.071954886472316\n",
      "iteration: 4000 and loss: 4.023332756273478\n",
      "iteration: 5000 and loss: 3.996266427733541\n",
      "iteration: 6000 and loss: 3.9900842699854167\n",
      "iteration: 7000 and loss: 3.9633900327632046\n",
      "iteration: 8000 and loss: 3.884419621428431\n",
      "iteration: 9000 and loss: 3.9185299326804706\n",
      "iteration: 10000 and loss: 3.8689347274697194\n",
      "iteration: 11000 and loss: 3.815499222018292\n",
      "iteration: 12000 and loss: 3.8902748845860367\n",
      "iteration: 13000 and loss: 3.7833620184671704\n",
      "iteration: 14000 and loss: 3.777705871080399\n",
      "iteration: 15000 and loss: 3.84167296803537\n",
      "iteration: 16000 and loss: 3.7141548505745727\n",
      "iteration: 17000 and loss: 3.719420674402239\n",
      "iteration: 18000 and loss: 3.6921194569437565\n",
      "iteration: 19000 and loss: 3.6384075082132155\n",
      "iteration: 20000 and loss: 3.718917219188978\n",
      "iteration: 21000 and loss: 3.633888830948248\n",
      "iteration: 22000 and loss: 3.6718180764640787\n",
      "iteration: 23000 and loss: 3.5939471732757733\n",
      "iteration: 24000 and loss: 3.602141714038377\n",
      "iteration: 25000 and loss: 3.564462716948161\n",
      "iteration: 26000 and loss: 3.6103444303762595\n",
      "iteration: 27000 and loss: 3.5306938826659806\n",
      "iteration: 28000 and loss: 3.530765404334791\n",
      "iteration: 29000 and loss: 3.5032275888121145\n",
      "iteration: 30000 and loss: 3.563994551410558\n",
      "iteration: 31000 and loss: 3.531402263226329\n",
      "iteration: 32000 and loss: 3.46370732195804\n",
      "iteration: 33000 and loss: 3.465911668572213\n",
      "iteration: 34000 and loss: 3.485313242327211\n",
      "iteration: 35000 and loss: 3.438883482463329\n",
      "iteration: 36000 and loss: 3.4330284593034173\n",
      "iteration: 37000 and loss: 3.4240685506696757\n",
      "iteration: 38000 and loss: 3.418446457275576\n",
      "iteration: 39000 and loss: 3.3717744154064357\n",
      "iteration: 40000 and loss: 3.4412957891908813\n",
      "iteration: 41000 and loss: 3.4149615402864484\n",
      "iteration: 42000 and loss: 3.373020967826984\n",
      "iteration: 43000 and loss: 3.430313272736955\n",
      "iteration: 44000 and loss: 3.291899923064757\n",
      "iteration: 45000 and loss: 3.3001840368213524\n",
      "iteration: 46000 and loss: 3.3443872747828878\n",
      "iteration: 47000 and loss: 3.4210700831469048\n",
      "iteration: 48000 and loss: 3.2931752126050435\n",
      "iteration: 49000 and loss: 3.278134594492532\n",
      "iteration: 50000 and loss: 3.381954734555971\n",
      "iteration: 51000 and loss: 3.2991682787003214\n",
      "iteration: 52000 and loss: 3.3638357417187867\n",
      "iteration: 53000 and loss: 3.2537073411529227\n",
      "iteration: 54000 and loss: 3.284572528436487\n",
      "iteration: 55000 and loss: 3.327923326999285\n",
      "iteration: 56000 and loss: 3.294328676324127\n",
      "iteration: 57000 and loss: 3.2040824824919394\n",
      "iteration: 58000 and loss: 3.2388801927239355\n",
      "iteration: 59000 and loss: 3.1867778139474767\n",
      "iteration: 60000 and loss: 3.2558461981307816\n",
      "iteration: 61000 and loss: 3.1998689139421175\n",
      "iteration: 62000 and loss: 3.2714458483297406\n",
      "iteration: 63000 and loss: 3.234266638899076\n",
      "iteration: 64000 and loss: 3.1912909062094887\n",
      "iteration: 65000 and loss: 3.260898019356406\n",
      "iteration: 66000 and loss: 3.2019961576438107\n",
      "iteration: 67000 and loss: 3.183628093688359\n",
      "iteration: 68000 and loss: 3.20158216354308\n",
      "iteration: 69000 and loss: 3.0784549357094644\n",
      "iteration: 70000 and loss: 3.227466003742521\n",
      "iteration: 71000 and loss: 3.1746421505507447\n",
      "iteration: 72000 and loss: 3.154877459673683\n",
      "iteration: 73000 and loss: 3.11865379870655\n",
      "iteration: 74000 and loss: 3.220830984633683\n",
      "iteration: 75000 and loss: 3.1601864168155216\n"
     ]
    },
    {
     "data": {
      "text/plain": [
       "<Figure size 640x480 with 0 Axes>"
      ]
     },
     "metadata": {},
     "output_type": "display_data"
    },
    {
     "data": {
      "image/png": "[encoded data removed]",
      "text/plain": [
       "<Figure size 640x480 with 1 Axes>"
      ]
     },
     "metadata": {},
     "output_type": "display_data"
    }
   ],
   "source": [
    "print_every=1000\n",
    "plot_every=100\n",
    "learning_rate=0.01\n",
    "n_iters=75000\n",
    "\n",
    "trainIters(encoder1, decoder1, n_iters=n_iters, plot_every=plot_every, print_every=print_every)"
   ]
  },
  {
   "cell_type": "code",
   "execution_count": 181,
   "metadata": {},
   "outputs": [],
   "source": [
    "def get_translation(encoder, decoder, sentence, max_length=MAX_LENGTH):\n",
    "    print(f\"Input sentence is: {sentence}\")\n",
    "    with torch.no_grad():\n",
    "        input_tensor = tensorFromSentence(input_lang, sentence)\n",
    "        input_length = input_tensor.size()[0]\n",
    "\n",
    "        hidden_size = 128\n",
    "        encoder_hidden = torch.zeros(1, 1, hidden_size, device=device)\n",
    "\n",
    "        for ei in range(input_length):\n",
    "            encoder_output, encoder_hidden = encoder(input_tensor[ei], encoder_hidden)\n",
    "\n",
    "        decoder_input = torch.tensor([[SOS_token]], device=device)  # SOS\n",
    "        decoder_hidden = encoder_hidden\n",
    "        decoded_words = []\n",
    "\n",
    "        for di in range(max_length):\n",
    "            decoder_output, decoder_hidden = decoder(decoder_input, decoder_hidden)\n",
    "            best_guess = decoder_output.argmax(1)\n",
    "            if best_guess.item() == 1:# EOS_token\n",
    "                decoded_words.append('<EOS>')\n",
    "                break\n",
    "            else:\n",
    "                decoded_words.append(output_lang.index2word[best_guess.item()])\n",
    "\n",
    "            decoder_input = best_guess\n",
    "\n",
    "        return decoded_words"
   ]
  },
  {
   "cell_type": "code",
   "execution_count": 182,
   "metadata": {},
   "outputs": [
    {
     "name": "stdout",
     "output_type": "stream",
     "text": [
      "Input sentence is: il faut que tu reviennes\n",
      "['you', 'need', 'to', 'do', '<EOS>']\n"
     ]
    }
   ],
   "source": [
    "sen = \"Il faut que tu reviennes\"\n",
    "# We need you back.\tIl faut que tu reviennes\n",
    "print(get_translation(encoder1, decoder1, sen.lower()))"
   ]
  },
  {
   "cell_type": "code",
   "execution_count": 183,
   "metadata": {},
   "outputs": [],
   "source": [
    "# Saving the models\n",
    "# https://stackoverflow.com/questions/42703500/how-do-i-save-a-trained-model-in-pytorch\n",
    "\n",
    "path = \"C:/Users/siddp/OneDrive/Desktop/project/encoder-decoder-models/model\"\n",
    "torch.save(encoder1.state_dict(), path + \"/encoder_simple.pth\")\n",
    "torch.save(decoder1.state_dict(), path + \"/decoder_simple.pth\")"
   ]
  },
  {
   "cell_type": "code",
   "execution_count": null,
   "metadata": {},
   "outputs": [],
   "source": [
    "# # hidden_size = 128\n",
    "# # encoder1 = EncoderRNN(input_lang.n_words, hidden_size).to(device)\n",
    "# # decoder1 = DecoderRNN(hidden_size, output_lang.n_words).to(device)\n",
    "\n",
    "# model_encoder = EncoderRNN(input_lang.n_words, hidden_size)\n",
    "# model_encoder.load_state_dict(torch.load(path + \"/encoder_simple.pth\"))\n",
    "# model_encoder.eval()\n",
    "\n",
    "# model_decoder = DecoderRNN(hidden_size, output_lang.n_words)\n",
    "# model_decoder.load_state_dict(torch.load(path + \"/decoder_simple.pth\"))\n",
    "# model_decoder.eval()"
   ]
  },
  {
   "cell_type": "markdown",
   "metadata": {},
   "source": [
    "## Encoder-Decoder Model with Attention Weights"
   ]
  },
  {
   "cell_type": "code",
   "execution_count": 18,
   "metadata": {},
   "outputs": [],
   "source": [
    "class AttnDecoderRNN(nn.Module):\n",
    "    def __init__(self, hidden_size, output_size, dropout_p=0.1, max_length=MAX_LENGTH):\n",
    "        super(AttnDecoderRNN, self).__init__()\n",
    "        self.hidden_size = hidden_size\n",
    "        self.output_size = output_size\n",
    "        self.dropout_p = dropout_p\n",
    "        self.max_length = max_length\n",
    "\n",
    "        self.embedding = nn.Embedding(self.output_size, self.hidden_size)\n",
    "        self.attn = nn.Linear(self.hidden_size * 2, self.max_length)\n",
    "        self.attn_combine = nn.Linear(self.hidden_size * 2, self.hidden_size)\n",
    "        self.dropout = nn.Dropout(self.dropout_p)\n",
    "        self.gru = nn.GRU(self.hidden_size, self.hidden_size)\n",
    "        self.out = nn.Linear(self.hidden_size, self.output_size)\n",
    "\n",
    "    def forward(self, input, hidden, encoder_outputs):\n",
    "        embedded = self.embedding(input).view(1, 1, -1)\n",
    "        embedded = self.dropout(embedded)\n",
    "\n",
    "        attn_weights = F.softmax(\n",
    "            self.attn(torch.cat((embedded[0], hidden[0]), 1)), dim=1)\n",
    "        attn_applied = torch.bmm(attn_weights.unsqueeze(0),\n",
    "                                 encoder_outputs.unsqueeze(0))\n",
    "\n",
    "        output = torch.cat((embedded[0], attn_applied[0]), 1)\n",
    "        output = self.attn_combine(output).unsqueeze(0)\n",
    "\n",
    "        output = F.relu(output)\n",
    "        output, hidden = self.gru(output, hidden)\n",
    "\n",
    "        output = F.log_softmax(self.out(output[0]), dim=1)\n",
    "        return output, hidden, attn_weights\n",
    "\n",
    "    def initHidden(self):\n",
    "        return torch.zeros(1, 1, self.hidden_size, device=device)"
   ]
  },
  {
   "cell_type": "code",
   "execution_count": 25,
   "metadata": {},
   "outputs": [],
   "source": []
  },
  {
   "cell_type": "code",
   "execution_count": 26,
   "metadata": {},
   "outputs": [],
   "source": []
  },
  {
   "cell_type": "code",
   "execution_count": 19,
   "metadata": {},
   "outputs": [],
   "source": []
  },
  {
   "cell_type": "code",
   "execution_count": 21,
   "metadata": {},
   "outputs": [],
   "source": [
    "def trainIters(encoder, decoder, n_iters, print_every=1000, plot_every=100, learning_rate=0.01):\n",
    "    plot_losses = []\n",
    "    print_loss_total = 0  # Reset every print_every\n",
    "    plot_loss_total = 0  # Reset every plot_every\n",
    "\n",
    "    encoder_optimizer = optim.SGD(encoder.parameters(), lr=learning_rate)\n",
    "    decoder_optimizer = optim.SGD(decoder.parameters(), lr=learning_rate)\n",
    "    training_pairs = [tensorsFromPair(random.choice(pairs))\n",
    "                      for i in range(n_iters)]\n",
    "    criterion = nn.NLLLoss()\n",
    "\n",
    "    for iter in range(1, n_iters + 1):\n",
    "        training_pair = training_pairs[iter - 1]\n",
    "        input_tensor = training_pair[0]\n",
    "        target_tensor = training_pair[1]\n",
    "\n",
    "        loss = train(input_tensor, target_tensor, encoder,\n",
    "                     decoder, encoder_optimizer, decoder_optimizer, criterion)\n",
    "        print_loss_total += loss\n",
    "        plot_loss_total += loss\n",
    "\n",
    "        if iter % print_every == 0:\n",
    "            print_loss_avg = print_loss_total / print_every\n",
    "            print_loss_total = 0\n",
    "            print(f\"iteration: {iter} and loss: {print_loss_avg}\")                             \n",
    "\n",
    "        if iter % plot_every == 0:\n",
    "            plot_loss_avg = plot_loss_total / plot_every\n",
    "            plot_losses.append(plot_loss_avg)\n",
    "            plot_loss_total = 0\n",
    "\n",
    "    plt.figure()\n",
    "    fig, ax = plt.subplots()\n",
    "    plt.plot(plot_losses)"
   ]
  },
  {
   "cell_type": "code",
   "execution_count": 22,
   "metadata": {},
   "outputs": [],
   "source": [
    "hidden_size = 256\n",
    "encoder1 = EncoderRNN(input_lang.n_words, hidden_size).to(device)\n",
    "attn_decoder1 = AttnDecoderRNN(hidden_size, output_lang.n_words, dropout_p=0.1).to(device)"
   ]
  },
  {
   "cell_type": "code",
   "execution_count": 27,
   "metadata": {},
   "outputs": [
    {
     "name": "stdout",
     "output_type": "stream",
     "text": [
      "iteration: 1000 and loss: 2.780281444153898\n",
      "iteration: 2000 and loss: 2.6892368841742735\n",
      "iteration: 3000 and loss: 2.622154637644026\n",
      "iteration: 4000 and loss: 2.5574859527279488\n",
      "iteration: 5000 and loss: 2.541782017372903\n",
      "iteration: 6000 and loss: 2.526669066704268\n",
      "iteration: 7000 and loss: 2.4068980869921393\n",
      "iteration: 8000 and loss: 2.4461138281606494\n",
      "iteration: 9000 and loss: 2.3870109127135475\n",
      "iteration: 10000 and loss: 2.2931139878619304\n",
      "iteration: 11000 and loss: 2.304444742841005\n",
      "iteration: 12000 and loss: 2.2601708306745856\n",
      "iteration: 13000 and loss: 2.2121433146718963\n",
      "iteration: 14000 and loss: 2.1379453291090718\n",
      "iteration: 15000 and loss: 2.137145074239041\n"
     ]
    },
    {
     "data": {
      "text/plain": [
       "<Figure size 640x480 with 0 Axes>"
      ]
     },
     "metadata": {},
     "output_type": "display_data"
    },
    {
     "data": {
      "image/png": "[encoded data removed]",
      "text/plain": [
       "<Figure size 640x480 with 1 Axes>"
      ]
     },
     "metadata": {},
     "output_type": "display_data"
    }
   ],
   "source": [
    "print_every=1000\n",
    "plot_every=100\n",
    "learning_rate=0.01\n",
    "n_iters=15000\n",
    "\n",
    "trainIters(encoder1, attn_decoder1, n_iters=n_iters, plot_every=plot_every, print_every=print_every)"
   ]
  },
  {
   "cell_type": "code",
   "execution_count": null,
   "metadata": {},
   "outputs": [],
   "source": []
  }
 ],
 "metadata": {
  "interpreter": {
   "hash": "b2ec3647308baa210fcf1b48a8ee3939f0fefc43cc1ff01e9e2580cf8866ec76"
  },
  "kernelspec": {
   "display_name": "Python 3.9.12 ('att_venv')",
   "language": "python",
   "name": "python3"
  },
  "language_info": {
   "codemirror_mode": {
    "name": "ipython",
    "version": 3
   },
   "file_extension": ".py",
   "mimetype": "text/x-python",
   "name": "python",
   "nbconvert_exporter": "python",
   "pygments_lexer": "ipython3",
   "version": "3.9.12"
  },
  "orig_nbformat": 4
 },
 "nbformat": 4,
 "nbformat_minor": 2
}
